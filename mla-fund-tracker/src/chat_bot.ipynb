{
 "cells": [
  {
   "cell_type": "code",
   "execution_count": null,
   "metadata": {
    "vscode": {
     "languageId": "plaintext"
    }
   },
   "outputs": [],
   "source": [
    "from anthropic import Anthropic\n",
    "\n",
    "# Initialize the Anthropic client\n",
    "client = Anthropic()\n",
    "\n",
    "# ANSI color codes\n",
    "BLUE = \"\\033[94m\"\n",
    "GREEN = \"\\033[92m\"\n",
    "RESET = \"\\033[0m\"\n",
    "\n",
    "def chat_with_claude():\n",
    "    print(\"Welcome to the Claude Chatbot!\")\n",
    "    print(\"Type 'quit' to exit the chat.\")\n",
    "    \n",
    "    conversation = []\n",
    "    \n",
    "    while True:\n",
    "        user_input = input(f\"{BLUE}You: {RESET}\")\n",
    "        \n",
    "        if user_input.lower() == 'quit':\n",
    "            print(\"Goodbye!\")\n",
    "            break\n",
    "        \n",
    "        conversation.append({\"role\": \"user\", \"content\": user_input})\n",
    "        \n",
    "        print(f\"{GREEN}Claude: {RESET}\", end=\"\", flush=True)\n",
    "        \n",
    "        stream = client.messages.create(\n",
    "            model=\"claude-3-haiku-20240307\",\n",
    "            max_tokens=1000,\n",
    "            messages=conversation,\n",
    "            stream=True\n",
    "        )\n",
    "        \n",
    "        assistant_response = \"\"\n",
    "        for chunk in stream:\n",
    "            if chunk.type == \"content_block_delta\":\n",
    "                content = chunk.delta.text\n",
    "                print(f\"{GREEN}{content}{RESET}\", end=\"\", flush=True)\n",
    "                assistant_response += content\n",
    "        \n",
    "        print()  # New line after the complete response\n",
    "        \n",
    "        conversation.append({\"role\": \"assistant\", \"content\": assistant_response})\n",
    "\n",
    "if __name__ == \"__main__\":\n",
    "    chat_with_claude()"
   ]
  },
  {
   "cell_type": "code",
   "execution_count": null,
   "metadata": {
    "vscode": {
     "languageId": "plaintext"
    }
   },
   "outputs": [],
   "source": []
  }
 ],
 "metadata": {
  "language_info": {
   "name": "python"
  }
 },
 "nbformat": 4,
 "nbformat_minor": 2
}
